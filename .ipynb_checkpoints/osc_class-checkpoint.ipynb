{
 "cells": [
  {
   "cell_type": "code",
   "execution_count": 42,
   "id": "d912e513-530e-4fe7-beb7-115088938bd1",
   "metadata": {},
   "outputs": [],
   "source": [
    "import pyvisa\n",
    "import matplotlib.pyplot as plt\n",
    "import numpy as np"
   ]
  },
  {
   "cell_type": "code",
   "execution_count": 43,
   "id": "2b07be57-d657-44d1-bc94-5b17292e3c55",
   "metadata": {},
   "outputs": [],
   "source": [
    "rm = pyvisa.ResourceManager('@py')\n"
   ]
  },
  {
   "cell_type": "code",
   "execution_count": 71,
   "id": "b3f40b2b-3c71-4776-ae11-89463bba3204",
   "metadata": {},
   "outputs": [],
   "source": [
    "class OSC:\n",
    "    def __init__(self,address: str,rm: pyvisa.ResourceManager):\n",
    "        self.address =  address\n",
    "        self.rm = rm\n",
    "        self.inst = None\n",
    "        self.time = None #for retrieving waveform data\n",
    "        self.voltage = None #for retrieving waveform data\n",
    "        self.p2p1 = None #peak to peak measurement for channel 1\n",
    "        self.p2p2 = None #peak to peak measurement for channel 2\n",
    "        self.freq1 = None #freq measurement for channel 1\n",
    "        self.freq2 = None #freq measurement for channel 2\n",
    "        self.rise1 = None\n",
    "        self.rise2 = None\n",
    "        self.fall1 = None\n",
    "        self.fall2 = None\n",
    "        self.fs = None\n",
    "        self.connect()  \n",
    "        \n",
    "\n",
    "    def connect(self):\n",
    "        print(\"Connecting...\")\n",
    "        self.inst = rm.open_resource(self.address)\n",
    "        self.inst.read_termination = '\\n'\n",
    "        print(\"Connected to...\")\n",
    "        print(self.inst.query('*IDN?'))\n",
    "\n",
    "    def v_scale(self,scale,channel):\n",
    "        self.inst.write('CH'+str(channel)+':VOLTS '+str(scale))\n",
    "            \n",
    "    def close(self):\n",
    "        self.inst.close()\n",
    "\n",
    "    def set_horizontal_scale(scale):\n",
    "        self.inst.write('HOR:MAIN:SCALE '+ str(scale))\n",
    "\n",
    "    def get_waveform_data(self,channel,plot = False):\n",
    "        self.inst.write(\"DATA:SOURCE CH1\")  #waveform source \n",
    "        self.inst.write(\"DATA:WIDTH 1\")     #bytes per point\n",
    "        self.inst.write(\"DATA:ENCdg RPBinary\") #waveform format\n",
    "        #value_in_YUNits = ((curve_in_dl - YOFF_in_dl) * YMUlt) + YZERO_in_YUNits    \n",
    "        ymult = float(self.inst.query(\"WFMPRE:YMULT?\")) #YMUlt\n",
    "        yzero = float(self.inst.query(\"WFMPRE:YZERO?\")) #YZERO\n",
    "        yoff = float(self.inst.query(\"WFMPRE:YOFF?\")) #YOFF\n",
    "        xincr = float(self.inst.query(\"WFMPRE:XINCR?\")) #interval between points - specified by WFMPre:XUNit(?) (seconds) \n",
    "        self.fs = 1/xincr\n",
    "        self.inst.write(\"CURVE?\")\n",
    "        raw_data = self.inst.read_raw()\n",
    "        header_length = int(raw_data[1:2])  # Correctly extract header length\n",
    "        num_bytes = int(raw_data[2:2 + header_length])  # Extract number of data bytes\n",
    "        data_start = 2 + header_length  # Find the actual data start index\n",
    "        data = np.frombuffer(raw_data[data_start:data_start + num_bytes], dtype=np.uint8)\n",
    "        self.voltage = (data - yoff) * ymult + yzero\n",
    "        self.time = np.arange(len(self.voltage)) * xincr \n",
    "        if plot == True:\n",
    "            plt.figure(figsize=(10, 4))\n",
    "            plt.plot(self.time, self.voltage)\n",
    "            plt.xlabel(\"Time (s)\")\n",
    "            plt.ylabel(\"Voltage (V)\")\n",
    "            plt.title(\"Oscilloscope Waveform\")\n",
    "            plt.grid()\n",
    "            plt.show()\n",
    "\n",
    "    def get_p2p(self,channel):\n",
    "        self.inst.write(\"MEASUrement:IMMed:TYPe PK2PK\")\n",
    "        self.inst.write(\"MEASUrement:IMMed:SOURCE CH\"+str(channel))\n",
    "        if channel == 1:\n",
    "            self.p2p1 = float(self.inst.query(\"MEASUrement:IMMed:VAL?\"))\n",
    "        elif channel == 2:\n",
    "            self.p2p2 = float(self.inst.query(\"MEASUrement:IMMed:VAL?\"))\n",
    "\n",
    "    def get_freq(self,channel):\n",
    "        self.inst.write(\"MEASUrement:IMMed:TYPe FREQ\")\n",
    "        self.inst.write(\"MEASUrement:IMMed:SOURCE CH\" + str(channel))\n",
    "        x = float(self.inst.query(\"MEASUrement:IMMed:VAL?\"))\n",
    "        setattr(self, f\"freq{channel}\", x)\n",
    "        \n",
    "    def get_rise_time(self,channel):\n",
    "        self.inst.write(\"MEASUrement:IMMed:TYPe RISe\")\n",
    "        self.inst.write(\"MEASUrement:IMMed:SOURCE CH\" + str(channel))\n",
    "        x = float(self.inst.query(\"MEASUrement:IMMed:VAL?\"))\n",
    "        setattr(self, f\"rise{channel}\", x)\n",
    "\n",
    "    def get_fall_time(self,channel):\n",
    "        self.inst.write(\"MEASUrement:IMMed:TYPe FALL\")\n",
    "        self.inst.write(\"MEASUrement:IMMed:SOURCE CH\" + str(channel))\n",
    "        x = float(self.inst.query(\"MEASUrement:IMMed:VAL?\"))\n",
    "        setattr(self, f\"fall{channel}\", x)"
   ]
  },
  {
   "cell_type": "code",
   "execution_count": 72,
   "id": "fc1f3f82-6ae6-49fd-a1e8-6ae03255249f",
   "metadata": {},
   "outputs": [
    {
     "name": "stdout",
     "output_type": "stream",
     "text": [
      "Connecting...\n",
      "Connected to...\n",
      "TEKTRONIX,TDS 2012C,C043627,CF:91.1CT FV:v24.26\n"
     ]
    }
   ],
   "source": [
    "osc = OSC('USB0::1689::931::C043627::0::INSTR',rm)\n"
   ]
  },
  {
   "cell_type": "code",
   "execution_count": 38,
   "id": "ee490472-d372-4203-aa65-2bb4278bc01b",
   "metadata": {},
   "outputs": [],
   "source": [
    "osc.v_scale(0.2,1)"
   ]
  },
  {
   "cell_type": "code",
   "execution_count": null,
   "id": "015808ab-801b-4027-97b4-dc2b09ed9d87",
   "metadata": {},
   "outputs": [],
   "source": [
    "osc.get_waveform_data(1,True)\n",
    "osc.fs"
   ]
  },
  {
   "cell_type": "code",
   "execution_count": 52,
   "id": "f912026b-b85f-4db6-baef-3a81f3eba855",
   "metadata": {},
   "outputs": [
    {
     "data": {
      "text/plain": [
       "0.5840001106"
      ]
     },
     "execution_count": 52,
     "metadata": {},
     "output_type": "execute_result"
    }
   ],
   "source": [
    "osc.get_p2p(1)\n",
    "osc.p2p1"
   ]
  },
  {
   "cell_type": "code",
   "execution_count": 60,
   "id": "47235e8c-5c38-4aeb-80fe-bc4cf8f0a3eb",
   "metadata": {},
   "outputs": [
    {
     "data": {
      "text/plain": [
       "200.0"
      ]
     },
     "execution_count": 60,
     "metadata": {},
     "output_type": "execute_result"
    }
   ],
   "source": [
    "osc.get_freq(1)\n",
    "osc.freq1"
   ]
  },
  {
   "cell_type": "code",
   "execution_count": 68,
   "id": "fc1d09ac-702d-4bd4-b131-c252809ee4f2",
   "metadata": {},
   "outputs": [
    {
     "data": {
      "text/plain": [
       "66.85709999999999"
      ]
     },
     "execution_count": 68,
     "metadata": {},
     "output_type": "execute_result"
    }
   ],
   "source": [
    "osc.get_rise_time(1)\n",
    "osc.rise1*1e6"
   ]
  },
  {
   "cell_type": "code",
   "execution_count": 69,
   "id": "9ee3b9d1-f66d-4c65-b5d4-be0c5c57c9f7",
   "metadata": {},
   "outputs": [
    {
     "data": {
      "text/plain": [
       "102.0"
      ]
     },
     "execution_count": 69,
     "metadata": {},
     "output_type": "execute_result"
    }
   ],
   "source": [
    "osc.get_fall_time(1)\n",
    "osc.fall1*1e6"
   ]
  },
  {
   "cell_type": "code",
   "execution_count": null,
   "id": "037ebc9c-c84d-40e4-b5f3-433c829ddca2",
   "metadata": {},
   "outputs": [],
   "source": [
    "osc.close()"
   ]
  }
 ],
 "metadata": {
  "kernelspec": {
   "display_name": "Python 3 (ipykernel)",
   "language": "python",
   "name": "python3"
  },
  "language_info": {
   "codemirror_mode": {
    "name": "ipython",
    "version": 3
   },
   "file_extension": ".py",
   "mimetype": "text/x-python",
   "name": "python",
   "nbconvert_exporter": "python",
   "pygments_lexer": "ipython3",
   "version": "3.11.7"
  }
 },
 "nbformat": 4,
 "nbformat_minor": 5
}
